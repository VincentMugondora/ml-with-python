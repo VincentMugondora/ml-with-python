{
 "cells": [
  {
   "cell_type": "markdown",
   "id": "8b1df4ad-adf7-4cfa-a23a-6bccf074bcfe",
   "metadata": {},
   "source": [
    "# Illustrate Jupyter Notebook \n",
    "## Hello World Script\n",
    "\n",
    "This is a demonstration of how Jupyter Notebook works"
   ]
  },
  {
   "cell_type": "markdown",
   "id": "b88e5781-cad8-4147-a4f1-971aee37bdd1",
   "metadata": {},
   "source": [
    "### Print Text to the Console"
   ]
  },
  {
   "cell_type": "code",
   "execution_count": 2,
   "id": "344e3233-b483-47ed-806e-70294b9ba052",
   "metadata": {},
   "outputs": [
    {
     "name": "stdout",
     "output_type": "stream",
     "text": [
      "Hello World\n"
     ]
    }
   ],
   "source": [
    "print(\"Hello World\")"
   ]
  },
  {
   "cell_type": "markdown",
   "id": "92ca91b4-eef3-4698-b2cd-0fc692b4b48c",
   "metadata": {},
   "source": [
    "### Using Python as a Calculator"
   ]
  },
  {
   "cell_type": "code",
   "execution_count": null,
   "id": "8839516b-dbf5-4b67-bbc2-e8ae87dcb9e8",
   "metadata": {},
   "outputs": [],
   "source": []
  }
 ],
 "metadata": {
  "kernelspec": {
   "display_name": "Python 3 (ipykernel)",
   "language": "python",
   "name": "python3"
  },
  "language_info": {
   "codemirror_mode": {
    "name": "ipython",
    "version": 3
   },
   "file_extension": ".py",
   "mimetype": "text/x-python",
   "name": "python",
   "nbconvert_exporter": "python",
   "pygments_lexer": "ipython3",
   "version": "3.12.11"
  }
 },
 "nbformat": 4,
 "nbformat_minor": 5
}
